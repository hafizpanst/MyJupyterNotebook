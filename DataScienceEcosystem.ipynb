{
 "cells": [
  {
   "cell_type": "markdown",
   "id": "c751ae0e",
   "metadata": {},
   "source": [
    "# Data Science Tools and Ecosystem"
   ]
  },
  {
   "cell_type": "markdown",
   "id": "1cf01d59",
   "metadata": {},
   "source": [
    "In this notebook, Data Science Tools and Ecosystem are summarized."
   ]
  },
  {
   "cell_type": "markdown",
   "id": "149195f9",
   "metadata": {},
   "source": [
    "**Objectives:**\n",
    "- Languages used in Data Science\n",
    "- Libraries used in Data Science\n",
    "- Development Environment Open Source Tools used in Data Science\n",
    "- Example of arithmetic expression in Jupyter Notebooks"
   ]
  },
  {
   "cell_type": "markdown",
   "id": "6ed22912",
   "metadata": {},
   "source": [
    "There are several languages that Data Scientist frequently use, include:\n",
    "1. Python\n",
    "2. R\n",
    "3. Scala\n",
    "4. Java\n",
    "5. C++\n",
    "6. Julia\n",
    "7. etc."
   ]
  },
  {
   "cell_type": "markdown",
   "id": "628d07ba",
   "metadata": {},
   "source": [
    "There are several libraries that Data Scientist frequently use, include:\n",
    "1. Pandas (Scientific Computing)\n",
    "2. Numpy (Scientific Computing)\n",
    "3. Matplotlib (Visualization)\n",
    "4. Seaborn (Visualization)\n",
    "5. Scikit-learn (Machine Learning and Deep Learning)\n",
    "6. Keras (Machine Learning and Deep Learning)\n",
    "7. TensorFlow (Deep Learning)\n",
    "8. PyTorch (Deep Learning)\n",
    "9. etc"
   ]
  },
  {
   "cell_type": "markdown",
   "id": "22f716bf",
   "metadata": {},
   "source": [
    "|Data Science Tools|\n",
    "|------------------|\n",
    "|Jupyter Notebooks|\n",
    "|Jupyter Lab|\n",
    "|Apache Zeppelin|\n",
    "|RStudio|\n",
    "|Spyder|"
   ]
  },
  {
   "cell_type": "markdown",
   "id": "fb4b6e57",
   "metadata": {},
   "source": [
    "### Below are a few examples of evaluating arithmetic expressions in Python."
   ]
  },
  {
   "cell_type": "code",
   "execution_count": 3,
   "id": "aefebcbb",
   "metadata": {},
   "outputs": [
    {
     "data": {
      "text/plain": [
       "17"
      ]
     },
     "execution_count": 3,
     "metadata": {},
     "output_type": "execute_result"
    }
   ],
   "source": [
    "# This is a simple arithmetic expression to multiply and then add integers\n",
    "\n",
    "(3*4)+5"
   ]
  },
  {
   "cell_type": "code",
   "execution_count": 4,
   "id": "80cb1629",
   "metadata": {},
   "outputs": [
    {
     "data": {
      "text/plain": [
       "3.3333333333333335"
      ]
     },
     "execution_count": 4,
     "metadata": {},
     "output_type": "execute_result"
    }
   ],
   "source": [
    "# This cell will convert 200 minutes to hours by diving by 60.\n",
    "\n",
    "(200/60)"
   ]
  },
  {
   "cell_type": "markdown",
   "id": "49ea67c7",
   "metadata": {},
   "source": [
    "## Author\n",
    "Hafiz Putra Amanta"
   ]
  }
 ],
 "metadata": {
  "kernelspec": {
   "display_name": "Python 3 (ipykernel)",
   "language": "python",
   "name": "python3"
  },
  "language_info": {
   "codemirror_mode": {
    "name": "ipython",
    "version": 3
   },
   "file_extension": ".py",
   "mimetype": "text/x-python",
   "name": "python",
   "nbconvert_exporter": "python",
   "pygments_lexer": "ipython3",
   "version": "3.10.9"
  }
 },
 "nbformat": 4,
 "nbformat_minor": 5
}
